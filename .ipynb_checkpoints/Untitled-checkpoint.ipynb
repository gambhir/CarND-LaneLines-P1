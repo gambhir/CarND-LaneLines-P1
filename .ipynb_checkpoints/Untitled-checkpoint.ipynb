{
 "cells": [
  {
   "cell_type": "code",
   "execution_count": null,
   "metadata": {
    "collapsed": true
   },
   "outputs": [],
   "source": [
    "# Finding Lane Lines on the Road"
   ]
  },
  {
   "cell_type": "markdown",
   "metadata": {},
   "source": [
    "\n",
    "\n",
    "The goals / steps of this project are the following:\n",
    "\n",
    "\n",
    "In this project, I used Python and OpenCV to find lane lines in the road images.\n",
    "\n",
    "The following techniques are used:\n",
    "Grayscale: Convert regular color image to single channel image.\n",
    "Gaussian Blur:  Applied to smooth out the noise,\n",
    "Canny Edge Detection: Transform and detect the edges\n",
    "Region masking: Selecting only portion of image defined by polygon vertices rest is blacked out. \n",
    "Hough Transform Line Detection: Detects the linear lines in the image\n",
    "\n",
    "Since some lanes lines are partically recongnized by using extrapolating technique the lines were extended for continuity. \n",
    "\n",
    "Identified the left and right lanes with negative and positive slope. And aftering identifiying left and right  took the average. \n",
    "\n",
    "\n",
    "\n",
    "\n"
   ]
  },
  {
   "cell_type": "markdown",
   "metadata": {},
   "source": []
  }
 ],
 "metadata": {
  "kernelspec": {
   "display_name": "Python 3",
   "language": "python",
   "name": "python3"
  },
  "language_info": {
   "codemirror_mode": {
    "name": "ipython",
    "version": 3
   },
   "file_extension": ".py",
   "mimetype": "text/x-python",
   "name": "python",
   "nbconvert_exporter": "python",
   "pygments_lexer": "ipython3",
   "version": "3.6.1"
  }
 },
 "nbformat": 4,
 "nbformat_minor": 2
}
